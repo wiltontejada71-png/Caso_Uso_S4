{
  "cells": [
    {
      "cell_type": "markdown",
      "metadata": {
        "id": "KSDsrCIF7f-z"
      },
      "source": [
        "### **Caso de uso: Ranking Billboard**"
      ]
    },
    {
      "cell_type": "markdown",
      "metadata": {
        "id": "gZePBKcJ7q_f"
      },
      "source": [
        "#### 1.- Librerías utilizadas"
      ]
    },
    {
      "cell_type": "code",
      "execution_count": 6,
      "metadata": {
        "id": "qyTQDiXtfypc"
      },
      "outputs": [],
      "source": [
        "import pandas as pd #Manipulacion de datos\n",
        "import numpy as np #Procesamiento de datos\n",
        "#Visualización de datos\n",
        "import matplotlib.pyplot as plt\n",
        "import seaborn as sns"
      ]
    },
    {
      "cell_type": "markdown",
      "metadata": {
        "id": "G8xmuGW77u0n"
      },
      "source": [
        "#### 2.- Carga de datos"
      ]
    },
    {
      "cell_type": "code",
      "execution_count": 7,
      "metadata": {
        "id": "62PpA-NDgMa3"
      },
      "outputs": [],
      "source": [
        "# /workspaces/Caso_Uso_S4/Data/raw/artists_billboard_fix3.csv\n",
        "df = pd.read_csv('/workspaces/Caso_Uso_S4/Data/raw/artists_billboard_fix3.csv',encoding = 'latin1')"
      ]
    },
    {
      "cell_type": "code",
      "execution_count": 8,
      "metadata": {
        "colab": {
          "base_uri": "https://localhost:8080/",
          "height": 195
        },
        "id": "RxdylbI1gRFt",
        "outputId": "8ce38594-b5a7-48b7-a815-063a1ad1b9b7"
      },
      "outputs": [
        {
          "data": {
            "text/html": [
              "<div>\n",
              "<style scoped>\n",
              "    .dataframe tbody tr th:only-of-type {\n",
              "        vertical-align: middle;\n",
              "    }\n",
              "\n",
              "    .dataframe tbody tr th {\n",
              "        vertical-align: top;\n",
              "    }\n",
              "\n",
              "    .dataframe thead th {\n",
              "        text-align: right;\n",
              "    }\n",
              "</style>\n",
              "<table border=\"1\" class=\"dataframe\">\n",
              "  <thead>\n",
              "    <tr style=\"text-align: right;\">\n",
              "      <th></th>\n",
              "      <th>id</th>\n",
              "      <th>title</th>\n",
              "      <th>artist</th>\n",
              "      <th>mood</th>\n",
              "      <th>tempo</th>\n",
              "      <th>genre</th>\n",
              "      <th>artist_type</th>\n",
              "      <th>chart_date</th>\n",
              "      <th>durationSeg</th>\n",
              "      <th>top</th>\n",
              "      <th>anioNacimiento</th>\n",
              "    </tr>\n",
              "  </thead>\n",
              "  <tbody>\n",
              "    <tr>\n",
              "      <th>0</th>\n",
              "      <td>0</td>\n",
              "      <td>Small Town Throwdown</td>\n",
              "      <td>BRANTLEY GILBERT featuring JUSTIN MOORE &amp; THOM...</td>\n",
              "      <td>Brooding</td>\n",
              "      <td>Medium Tempo</td>\n",
              "      <td>Traditional</td>\n",
              "      <td>Male</td>\n",
              "      <td>20140628</td>\n",
              "      <td>191.0</td>\n",
              "      <td>0</td>\n",
              "      <td>1975.0</td>\n",
              "    </tr>\n",
              "    <tr>\n",
              "      <th>1</th>\n",
              "      <td>1</td>\n",
              "      <td>Bang Bang</td>\n",
              "      <td>JESSIE J, ARIANA GRANDE &amp; NICKI MINAJ</td>\n",
              "      <td>Energizing</td>\n",
              "      <td>Medium Tempo</td>\n",
              "      <td>Pop</td>\n",
              "      <td>Female</td>\n",
              "      <td>20140816</td>\n",
              "      <td>368.0</td>\n",
              "      <td>0</td>\n",
              "      <td>1989.0</td>\n",
              "    </tr>\n",
              "    <tr>\n",
              "      <th>2</th>\n",
              "      <td>2</td>\n",
              "      <td>Timber</td>\n",
              "      <td>PITBULL featuring KE$HA</td>\n",
              "      <td>Excited</td>\n",
              "      <td>Medium Tempo</td>\n",
              "      <td>Urban</td>\n",
              "      <td>Mixed</td>\n",
              "      <td>20140118</td>\n",
              "      <td>223.0</td>\n",
              "      <td>1</td>\n",
              "      <td>1993.0</td>\n",
              "    </tr>\n",
              "  </tbody>\n",
              "</table>\n",
              "</div>"
            ],
            "text/plain": [
              "   id                 title  \\\n",
              "0   0  Small Town Throwdown   \n",
              "1   1             Bang Bang   \n",
              "2   2                Timber   \n",
              "\n",
              "                                              artist        mood  \\\n",
              "0  BRANTLEY GILBERT featuring JUSTIN MOORE & THOM...    Brooding   \n",
              "1              JESSIE J, ARIANA GRANDE & NICKI MINAJ  Energizing   \n",
              "2                            PITBULL featuring KE$HA     Excited   \n",
              "\n",
              "          tempo        genre artist_type  chart_date  durationSeg  top  \\\n",
              "0  Medium Tempo  Traditional        Male    20140628        191.0    0   \n",
              "1  Medium Tempo          Pop      Female    20140816        368.0    0   \n",
              "2  Medium Tempo        Urban       Mixed    20140118        223.0    1   \n",
              "\n",
              "   anioNacimiento  \n",
              "0          1975.0  \n",
              "1          1989.0  \n",
              "2          1993.0  "
            ]
          },
          "execution_count": 8,
          "metadata": {},
          "output_type": "execute_result"
        }
      ],
      "source": [
        "df.head(3)"
      ]
    },
    {
      "cell_type": "markdown",
      "metadata": {
        "id": "_QQc_Z96gWsp"
      },
      "source": [
        "![Diccionario.png](data:image/png;base64,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)"
      ]
    },
    {
      "cell_type": "markdown",
      "metadata": {
        "id": "d6SrBLTG8Th0"
      },
      "source": [
        "De acuerdo al contexto del caso de uso, se define que la variable Target es **Top**"
      ]
    },
    {
      "cell_type": "markdown",
      "metadata": {
        "id": "I4YDsUF-8jie"
      },
      "source": [
        "#### 3.- Manipulación de datos"
      ]
    },
    {
      "cell_type": "code",
      "execution_count": 9,
      "metadata": {
        "colab": {
          "base_uri": "https://localhost:8080/"
        },
        "id": "I0kRkHXRgRcw",
        "outputId": "3ca4bc9e-bbec-4b40-932b-6d39f7c8a68c"
      },
      "outputs": [
        {
          "data": {
            "text/plain": [
              "(635, 11)"
            ]
          },
          "execution_count": 9,
          "metadata": {},
          "output_type": "execute_result"
        }
      ],
      "source": [
        "df.shape"
      ]
    },
    {
      "cell_type": "markdown",
      "metadata": {
        "id": "Bs3tOloE8onp"
      },
      "source": [
        "El conjunto de datos cuenta con 635 registros y 11 columnas"
      ]
    },
    {
      "cell_type": "code",
      "execution_count": 10,
      "metadata": {
        "colab": {
          "base_uri": "https://localhost:8080/"
        },
        "id": "QrwLbiWe8oDs",
        "outputId": "243c2fec-7351-426f-8707-d3b7e71b38b1"
      },
      "outputs": [
        {
          "data": {
            "text/plain": [
              "Index(['id', 'title', 'artist', 'mood', 'tempo', 'genre', 'artist_type',\n",
              "       'chart_date', 'durationSeg', 'top', 'anioNacimiento'],\n",
              "      dtype='object')"
            ]
          },
          "execution_count": 10,
          "metadata": {},
          "output_type": "execute_result"
        }
      ],
      "source": [
        "df.columns"
      ]
    },
    {
      "cell_type": "markdown",
      "metadata": {
        "id": "PwQZTPVV81eX"
      },
      "source": [
        "#### 4.- Entendimiento de Datos"
      ]
    },
    {
      "cell_type": "markdown",
      "metadata": {
        "id": "XSiNmz_t9Ht1"
      },
      "source": [
        "##### 4.1 General"
      ]
    },
    {
      "cell_type": "code",
      "execution_count": 11,
      "metadata": {
        "colab": {
          "base_uri": "https://localhost:8080/"
        },
        "id": "Q1oz_QYI8syE",
        "outputId": "f2f9a283-5fe5-4654-d016-1cffd8a1ac53"
      },
      "outputs": [
        {
          "name": "stdout",
          "output_type": "stream",
          "text": [
            "<class 'pandas.core.frame.DataFrame'>\n",
            "RangeIndex: 635 entries, 0 to 634\n",
            "Data columns (total 11 columns):\n",
            " #   Column          Non-Null Count  Dtype  \n",
            "---  ------          --------------  -----  \n",
            " 0   id              635 non-null    int64  \n",
            " 1   title           635 non-null    object \n",
            " 2   artist          635 non-null    object \n",
            " 3   mood            635 non-null    object \n",
            " 4   tempo           635 non-null    object \n",
            " 5   genre           635 non-null    object \n",
            " 6   artist_type     635 non-null    object \n",
            " 7   chart_date      635 non-null    int64  \n",
            " 8   durationSeg     635 non-null    float64\n",
            " 9   top             635 non-null    int64  \n",
            " 10  anioNacimiento  635 non-null    float64\n",
            "dtypes: float64(2), int64(3), object(6)\n",
            "memory usage: 54.7+ KB\n"
          ]
        }
      ],
      "source": [
        "df.info()"
      ]
    },
    {
      "cell_type": "markdown",
      "metadata": {
        "id": "c4vwA8Fq9SSe"
      },
      "source": [
        "Del conjunto de datos, contamos con 6 variables de texto y 5 variables numéricas (3 enteras y 2 continuas)"
      ]
    },
    {
      "cell_type": "code",
      "execution_count": 12,
      "metadata": {
        "colab": {
          "base_uri": "https://localhost:8080/",
          "height": 0
        },
        "id": "Qvo-z2379RaV",
        "outputId": "6d880a6d-1427-412a-e30d-6225ab1d4be2"
      },
      "outputs": [
        {
          "data": {
            "text/plain": [
              "id                0\n",
              "title             0\n",
              "artist            0\n",
              "mood              0\n",
              "tempo             0\n",
              "genre             0\n",
              "artist_type       0\n",
              "chart_date        0\n",
              "durationSeg       0\n",
              "top               0\n",
              "anioNacimiento    0\n",
              "dtype: int64"
            ]
          },
          "execution_count": 12,
          "metadata": {},
          "output_type": "execute_result"
        }
      ],
      "source": [
        "df.isna().sum()"
      ]
    },
    {
      "cell_type": "markdown",
      "metadata": {
        "id": "jSsrS2sB9iAg"
      },
      "source": [
        "**Hallazgo 1:**\n",
        "\n",
        "*   El conjunto de datos no cuenta con valores nulos, por lo que se descarta realizar el gráfico de nulos (librería missingno)\n",
        "\n",
        "\n",
        "\n"
      ]
    },
    {
      "cell_type": "code",
      "execution_count": 13,
      "metadata": {
        "colab": {
          "base_uri": "https://localhost:8080/",
          "height": 0
        },
        "id": "jcd1sWq-9uR0",
        "outputId": "68c48f6c-15df-4066-db62-eada76b134a9"
      },
      "outputs": [
        {
          "data": {
            "text/plain": [
              "top\n",
              "0    494\n",
              "1    141\n",
              "dtype: int64"
            ]
          },
          "execution_count": 13,
          "metadata": {},
          "output_type": "execute_result"
        },
        {
          "data": {
            "image/png": "[encoded data removed]",
            "text/plain": [
              "<Figure size 640x480 with 1 Axes>"
            ]
          },
          "metadata": {},
          "output_type": "display_data"
        }
      ],
      "source": [
        "#Realizamos la distribución de la variables Target\n",
        "sns.countplot(data = df, x = \"top\")\n",
        "df.groupby('top').size()"
      ]
    },
    {
      "cell_type": "code",
      "execution_count": 14,
      "metadata": {
        "colab": {
          "base_uri": "https://localhost:8080/"
        },
        "id": "qIyP57GK-GqK",
        "outputId": "9e309d62-5526-4c16-9b09-e4489f277ea1"
      },
      "outputs": [
        {
          "data": {
            "text/plain": [
              "0.2220472440944882"
            ]
          },
          "execution_count": 14,
          "metadata": {},
          "output_type": "execute_result"
        }
      ],
      "source": [
        "141/635"
      ]
    },
    {
      "cell_type": "markdown",
      "metadata": {
        "id": "zSGP0x1q-Jme"
      },
      "source": [
        "**Hallazgo 2:**\n",
        "\n",
        "*   El 22% de canciones llegaron a convertise en Top 1 del Ranking Billboard\n",
        "\n"
      ]
    },
    {
      "cell_type": "markdown",
      "metadata": {
        "id": "Mp2pKfRF-a7f"
      },
      "source": [
        "##### 4.2 Variables cuantitativas"
      ]
    },
    {
      "cell_type": "code",
      "execution_count": 15,
      "metadata": {
        "colab": {
          "base_uri": "https://localhost:8080/",
          "height": 0
        },
        "id": "IQ-m0jrO-H1p",
        "outputId": "92ef464c-f9fc-4769-b945-7ddd32b76b10"
      },
      "outputs": [
        {
          "data": {
            "text/html": [
              "<div>\n",
              "<style scoped>\n",
              "    .dataframe tbody tr th:only-of-type {\n",
              "        vertical-align: middle;\n",
              "    }\n",
              "\n",
              "    .dataframe tbody tr th {\n",
              "        vertical-align: top;\n",
              "    }\n",
              "\n",
              "    .dataframe thead th {\n",
              "        text-align: right;\n",
              "    }\n",
              "</style>\n",
              "<table border=\"1\" class=\"dataframe\">\n",
              "  <thead>\n",
              "    <tr style=\"text-align: right;\">\n",
              "      <th></th>\n",
              "      <th>id</th>\n",
              "      <th>chart_date</th>\n",
              "      <th>durationSeg</th>\n",
              "      <th>top</th>\n",
              "      <th>anioNacimiento</th>\n",
              "    </tr>\n",
              "  </thead>\n",
              "  <tbody>\n",
              "    <tr>\n",
              "      <th>count</th>\n",
              "      <td>635.000000</td>\n",
              "      <td>6.350000e+02</td>\n",
              "      <td>635.000000</td>\n",
              "      <td>635.000000</td>\n",
              "      <td>635.000000</td>\n",
              "    </tr>\n",
              "    <tr>\n",
              "      <th>mean</th>\n",
              "      <td>317.000000</td>\n",
              "      <td>2.013036e+07</td>\n",
              "      <td>321.768504</td>\n",
              "      <td>0.222047</td>\n",
              "      <td>1548.590551</td>\n",
              "    </tr>\n",
              "    <tr>\n",
              "      <th>std</th>\n",
              "      <td>183.452991</td>\n",
              "      <td>2.617996e+04</td>\n",
              "      <td>633.753787</td>\n",
              "      <td>0.415950</td>\n",
              "      <td>820.470454</td>\n",
              "    </tr>\n",
              "    <tr>\n",
              "      <th>min</th>\n",
              "      <td>0.000000</td>\n",
              "      <td>2.004021e+07</td>\n",
              "      <td>0.000000</td>\n",
              "      <td>0.000000</td>\n",
              "      <td>0.000000</td>\n",
              "    </tr>\n",
              "    <tr>\n",
              "      <th>25%</th>\n",
              "      <td>158.500000</td>\n",
              "      <td>2.014010e+07</td>\n",
              "      <td>200.000000</td>\n",
              "      <td>0.000000</td>\n",
              "      <td>1969.000000</td>\n",
              "    </tr>\n",
              "    <tr>\n",
              "      <th>50%</th>\n",
              "      <td>317.000000</td>\n",
              "      <td>2.014051e+07</td>\n",
              "      <td>232.000000</td>\n",
              "      <td>0.000000</td>\n",
              "      <td>1981.000000</td>\n",
              "    </tr>\n",
              "    <tr>\n",
              "      <th>75%</th>\n",
              "      <td>475.500000</td>\n",
              "      <td>2.014101e+07</td>\n",
              "      <td>266.500000</td>\n",
              "      <td>0.000000</td>\n",
              "      <td>1986.000000</td>\n",
              "    </tr>\n",
              "    <tr>\n",
              "      <th>max</th>\n",
              "      <td>634.000000</td>\n",
              "      <td>2.015031e+07</td>\n",
              "      <td>6840.000000</td>\n",
              "      <td>1.000000</td>\n",
              "      <td>1999.000000</td>\n",
              "    </tr>\n",
              "  </tbody>\n",
              "</table>\n",
              "</div>"
            ],
            "text/plain": [
              "               id    chart_date  durationSeg         top  anioNacimiento\n",
              "count  635.000000  6.350000e+02   635.000000  635.000000      635.000000\n",
              "mean   317.000000  2.013036e+07   321.768504    0.222047     1548.590551\n",
              "std    183.452991  2.617996e+04   633.753787    0.415950      820.470454\n",
              "min      0.000000  2.004021e+07     0.000000    0.000000        0.000000\n",
              "25%    158.500000  2.014010e+07   200.000000    0.000000     1969.000000\n",
              "50%    317.000000  2.014051e+07   232.000000    0.000000     1981.000000\n",
              "75%    475.500000  2.014101e+07   266.500000    0.000000     1986.000000\n",
              "max    634.000000  2.015031e+07  6840.000000    1.000000     1999.000000"
            ]
          },
          "execution_count": 15,
          "metadata": {},
          "output_type": "execute_result"
        }
      ],
      "source": [
        "#Calculamos las principales medidas estadísticas\n",
        "df.describe()"
      ]
    },
    {
      "cell_type": "code",
      "execution_count": 16,
      "metadata": {
        "colab": {
          "base_uri": "https://localhost:8080/",
          "height": 0
        },
        "id": "dU4zM-YgAAmy",
        "outputId": "98e2e0be-ef5f-4817-84d8-7d376d0bf780"
      },
      "outputs": [
        {
          "data": {
            "image/png": "[encoded data removed]",
            "text/plain": [
              "<Figure size 1000x600 with 1 Axes>"
            ]
          },
          "metadata": {},
          "output_type": "display_data"
        }
      ],
      "source": [
        "#Calculamos la distribción de las variables numéricas\n",
        "df['durationSeg'].hist(bins = 50, figsize=(10,6))\n",
        "plt.show()"
      ]
    },
    {
      "cell_type": "code",
      "execution_count": 17,
      "metadata": {
        "colab": {
          "base_uri": "https://localhost:8080/",
          "height": 0
        },
        "id": "ZjwpHoxjAFlo",
        "outputId": "ae0ba84f-13d1-45ab-dbcd-cfc06989f60a"
      },
      "outputs": [
        {
          "data": {
            "image/png": "[encoded data removed]",
            "text/plain": [
              "<Figure size 640x480 with 1 Axes>"
            ]
          },
          "metadata": {},
          "output_type": "display_data"
        }
      ],
      "source": [
        "#Diagrama de Caja\n",
        "sns.boxplot(data=df,x='durationSeg')\n",
        "plt.show()"
      ]
    },
    {
      "cell_type": "markdown",
      "metadata": {
        "id": "J3gLQB71_Pu8"
      },
      "source": [
        "**Hallazgo 3:**\n",
        "\n",
        "*  De las 5 variables numéricas, 4 de ellas no son analizables por ser correlativo (ID), fechas en formato de número (chart_date), top (target) y años de nacimiento (anioNacimiento).\n",
        "*  De la variable **durationSeg**, observamos que la desviación es casi el doble del promedio por lo que después de revisar el diagrama de caja, se presenta valores atípicos.\n",
        "\n"
      ]
    },
    {
      "cell_type": "code",
      "execution_count": 18,
      "metadata": {
        "colab": {
          "base_uri": "https://localhost:8080/",
          "height": 0
        },
        "id": "qFHJwMJ2Abml",
        "outputId": "9178c3bb-1762-4140-a378-23ab4782c7ad"
      },
      "outputs": [
        {
          "data": {
            "text/plain": [
              "<Axes: >"
            ]
          },
          "execution_count": 18,
          "metadata": {},
          "output_type": "execute_result"
        },
        {
          "data": {
            "image/png": "[encoded data removed]",
            "text/plain": [
              "<Figure size 1000x500 with 2 Axes>"
            ]
          },
          "metadata": {},
          "output_type": "display_data"
        }
      ],
      "source": [
        "#Calculamos la correlación variables numéricas\n",
        "corr = df[['durationSeg', 'top']].corr()\n",
        "plt.figure(figsize=(10,5))\n",
        "sns.heatmap(corr, annot=True)"
      ]
    },
    {
      "cell_type": "markdown",
      "metadata": {
        "id": "6B-mES7LAu8q"
      },
      "source": [
        "**Hallazgo 4:**\n",
        "\n",
        "*   Observamos que la correlación de la variable Duración de segundos con el Target es casi nula (0.049)\n",
        "\n"
      ]
    },
    {
      "cell_type": "markdown",
      "metadata": {
        "id": "VKRXY6rGBAac"
      },
      "source": [
        "##### 4.3 Variables cualitativas"
      ]
    },
    {
      "cell_type": "code",
      "execution_count": 19,
      "metadata": {
        "id": "WbrL1lYOAkDE"
      },
      "outputs": [],
      "source": [
        "categorical_attributes = df.select_dtypes(include=['object'])"
      ]
    },
    {
      "cell_type": "code",
      "execution_count": 20,
      "metadata": {
        "colab": {
          "base_uri": "https://localhost:8080/",
          "height": 0
        },
        "id": "JcBdy0mnBGfr",
        "outputId": "48c32292-ab47-4dfa-b348-b8819991abcb"
      },
      "outputs": [
        {
          "data": {
            "text/plain": [
              "title          object\n",
              "artist         object\n",
              "mood           object\n",
              "tempo          object\n",
              "genre          object\n",
              "artist_type    object\n",
              "dtype: object"
            ]
          },
          "execution_count": 20,
          "metadata": {},
          "output_type": "execute_result"
        }
      ],
      "source": [
        "categorical_attributes.dtypes"
      ]
    },
    {
      "cell_type": "markdown",
      "metadata": {
        "id": "alknYRG-BTiW"
      },
      "source": [
        "**Hallazgo 5:**\n",
        "\n",
        "*   De las 6 variables categóricas, 4 de ellas son analizables (mood, tempo, genre y artist type) debido a que las 2 variables restantes (title y artist) son textos amplios (comentarios)\n",
        "\n"
      ]
    },
    {
      "cell_type": "code",
      "execution_count": 21,
      "metadata": {
        "colab": {
          "base_uri": "https://localhost:8080/",
          "height": 0
        },
        "id": "l9WVR137BGy3",
        "outputId": "50f3402a-5306-42d2-fc25-4294929b48a7"
      },
      "outputs": [
        {
          "data": {
            "text/html": [
              "<div>\n",
              "<style scoped>\n",
              "    .dataframe tbody tr th:only-of-type {\n",
              "        vertical-align: middle;\n",
              "    }\n",
              "\n",
              "    .dataframe tbody tr th {\n",
              "        vertical-align: top;\n",
              "    }\n",
              "\n",
              "    .dataframe thead tr th {\n",
              "        text-align: left;\n",
              "    }\n",
              "\n",
              "    .dataframe thead tr:last-of-type th {\n",
              "        text-align: right;\n",
              "    }\n",
              "</style>\n",
              "<table border=\"1\" class=\"dataframe\">\n",
              "  <thead>\n",
              "    <tr>\n",
              "      <th></th>\n",
              "      <th colspan=\"3\" halign=\"left\">top</th>\n",
              "    </tr>\n",
              "    <tr>\n",
              "      <th></th>\n",
              "      <th>count</th>\n",
              "      <th>sum</th>\n",
              "      <th>mean</th>\n",
              "    </tr>\n",
              "    <tr>\n",
              "      <th>mood</th>\n",
              "      <th></th>\n",
              "      <th></th>\n",
              "      <th></th>\n",
              "    </tr>\n",
              "  </thead>\n",
              "  <tbody>\n",
              "    <tr>\n",
              "      <th>Empowering</th>\n",
              "      <td>88</td>\n",
              "      <td>10</td>\n",
              "      <td>0.113636</td>\n",
              "    </tr>\n",
              "    <tr>\n",
              "      <th>Cool</th>\n",
              "      <td>78</td>\n",
              "      <td>27</td>\n",
              "      <td>0.346154</td>\n",
              "    </tr>\n",
              "    <tr>\n",
              "      <th>Energizing</th>\n",
              "      <td>71</td>\n",
              "      <td>33</td>\n",
              "      <td>0.464789</td>\n",
              "    </tr>\n",
              "    <tr>\n",
              "      <th>Yearning</th>\n",
              "      <td>68</td>\n",
              "      <td>6</td>\n",
              "      <td>0.088235</td>\n",
              "    </tr>\n",
              "    <tr>\n",
              "      <th>Defiant</th>\n",
              "      <td>64</td>\n",
              "      <td>5</td>\n",
              "      <td>0.078125</td>\n",
              "    </tr>\n",
              "    <tr>\n",
              "      <th>Excited</th>\n",
              "      <td>62</td>\n",
              "      <td>19</td>\n",
              "      <td>0.306452</td>\n",
              "    </tr>\n",
              "    <tr>\n",
              "      <th>Sensual</th>\n",
              "      <td>55</td>\n",
              "      <td>17</td>\n",
              "      <td>0.309091</td>\n",
              "    </tr>\n",
              "    <tr>\n",
              "      <th>Urgent</th>\n",
              "      <td>30</td>\n",
              "      <td>8</td>\n",
              "      <td>0.266667</td>\n",
              "    </tr>\n",
              "    <tr>\n",
              "      <th>Rowdy</th>\n",
              "      <td>15</td>\n",
              "      <td>3</td>\n",
              "      <td>0.200000</td>\n",
              "    </tr>\n",
              "    <tr>\n",
              "      <th>Sophisticated</th>\n",
              "      <td>15</td>\n",
              "      <td>4</td>\n",
              "      <td>0.266667</td>\n",
              "    </tr>\n",
              "    <tr>\n",
              "      <th>Brooding</th>\n",
              "      <td>14</td>\n",
              "      <td>3</td>\n",
              "      <td>0.214286</td>\n",
              "    </tr>\n",
              "    <tr>\n",
              "      <th>Upbeat</th>\n",
              "      <td>12</td>\n",
              "      <td>0</td>\n",
              "      <td>0.000000</td>\n",
              "    </tr>\n",
              "    <tr>\n",
              "      <th>Aggressive</th>\n",
              "      <td>11</td>\n",
              "      <td>3</td>\n",
              "      <td>0.272727</td>\n",
              "    </tr>\n",
              "    <tr>\n",
              "      <th>Melancholy</th>\n",
              "      <td>10</td>\n",
              "      <td>0</td>\n",
              "      <td>0.000000</td>\n",
              "    </tr>\n",
              "    <tr>\n",
              "      <th>Gritty</th>\n",
              "      <td>9</td>\n",
              "      <td>2</td>\n",
              "      <td>0.222222</td>\n",
              "    </tr>\n",
              "    <tr>\n",
              "      <th>Romantic</th>\n",
              "      <td>7</td>\n",
              "      <td>0</td>\n",
              "      <td>0.000000</td>\n",
              "    </tr>\n",
              "    <tr>\n",
              "      <th>Sentimental</th>\n",
              "      <td>7</td>\n",
              "      <td>0</td>\n",
              "      <td>0.000000</td>\n",
              "    </tr>\n",
              "    <tr>\n",
              "      <th>Fiery</th>\n",
              "      <td>6</td>\n",
              "      <td>1</td>\n",
              "      <td>0.166667</td>\n",
              "    </tr>\n",
              "    <tr>\n",
              "      <th>Peaceful</th>\n",
              "      <td>4</td>\n",
              "      <td>0</td>\n",
              "      <td>0.000000</td>\n",
              "    </tr>\n",
              "    <tr>\n",
              "      <th>Easygoing</th>\n",
              "      <td>4</td>\n",
              "      <td>0</td>\n",
              "      <td>0.000000</td>\n",
              "    </tr>\n",
              "    <tr>\n",
              "      <th>Lively</th>\n",
              "      <td>2</td>\n",
              "      <td>0</td>\n",
              "      <td>0.000000</td>\n",
              "    </tr>\n",
              "    <tr>\n",
              "      <th>Stirring</th>\n",
              "      <td>2</td>\n",
              "      <td>0</td>\n",
              "      <td>0.000000</td>\n",
              "    </tr>\n",
              "    <tr>\n",
              "      <th>Other</th>\n",
              "      <td>1</td>\n",
              "      <td>0</td>\n",
              "      <td>0.000000</td>\n",
              "    </tr>\n",
              "  </tbody>\n",
              "</table>\n",
              "</div>"
            ],
            "text/plain": [
              "                top              \n",
              "              count sum      mean\n",
              "mood                             \n",
              "Empowering       88  10  0.113636\n",
              "Cool             78  27  0.346154\n",
              "Energizing       71  33  0.464789\n",
              "Yearning         68   6  0.088235\n",
              "Defiant          64   5  0.078125\n",
              "Excited          62  19  0.306452\n",
              "Sensual          55  17  0.309091\n",
              "Urgent           30   8  0.266667\n",
              "Rowdy            15   3  0.200000\n",
              "Sophisticated    15   4  0.266667\n",
              "Brooding         14   3  0.214286\n",
              "Upbeat           12   0  0.000000\n",
              "Aggressive       11   3  0.272727\n",
              "Melancholy       10   0  0.000000\n",
              "Gritty            9   2  0.222222\n",
              "Romantic          7   0  0.000000\n",
              "Sentimental       7   0  0.000000\n",
              "Fiery             6   1  0.166667\n",
              "Peaceful          4   0  0.000000\n",
              "Easygoing         4   0  0.000000\n",
              "Lively            2   0  0.000000\n",
              "Stirring          2   0  0.000000\n",
              "Other             1   0  0.000000"
            ]
          },
          "execution_count": 21,
          "metadata": {},
          "output_type": "execute_result"
        }
      ],
      "source": [
        "#Mood\n",
        "df[['mood','top']].groupby('mood').agg(['count','sum','mean']).sort_values(('top','count'), ascending = False)"
      ]
    },
    {
      "cell_type": "markdown",
      "metadata": {
        "id": "8EV9sW0-Cj6L"
      },
      "source": [
        "**Hallazgo 6:**\n",
        "\n",
        "* La variable presenta una gran dimensionalidad (+20 categorías) por lo que es necesario agruparlas para poder analizar su relación vs el target.\n",
        "\n"
      ]
    },
    {
      "cell_type": "code",
      "execution_count": 22,
      "metadata": {
        "colab": {
          "base_uri": "https://localhost:8080/",
          "height": 0
        },
        "id": "rcMgdsW8CBDq",
        "outputId": "ed32fd76-3906-4573-be10-ee989983a0b3"
      },
      "outputs": [
        {
          "data": {
            "text/html": [
              "<div>\n",
              "<style scoped>\n",
              "    .dataframe tbody tr th:only-of-type {\n",
              "        vertical-align: middle;\n",
              "    }\n",
              "\n",
              "    .dataframe tbody tr th {\n",
              "        vertical-align: top;\n",
              "    }\n",
              "\n",
              "    .dataframe thead tr th {\n",
              "        text-align: left;\n",
              "    }\n",
              "\n",
              "    .dataframe thead tr:last-of-type th {\n",
              "        text-align: right;\n",
              "    }\n",
              "</style>\n",
              "<table border=\"1\" class=\"dataframe\">\n",
              "  <thead>\n",
              "    <tr>\n",
              "      <th></th>\n",
              "      <th colspan=\"3\" halign=\"left\">top</th>\n",
              "    </tr>\n",
              "    <tr>\n",
              "      <th></th>\n",
              "      <th>count</th>\n",
              "      <th>sum</th>\n",
              "      <th>mean</th>\n",
              "    </tr>\n",
              "    <tr>\n",
              "      <th>tempo</th>\n",
              "      <th></th>\n",
              "      <th></th>\n",
              "      <th></th>\n",
              "    </tr>\n",
              "  </thead>\n",
              "  <tbody>\n",
              "    <tr>\n",
              "      <th>Medium Tempo</th>\n",
              "      <td>517</td>\n",
              "      <td>113</td>\n",
              "      <td>0.218569</td>\n",
              "    </tr>\n",
              "    <tr>\n",
              "      <th>Slow Tempo</th>\n",
              "      <td>65</td>\n",
              "      <td>16</td>\n",
              "      <td>0.246154</td>\n",
              "    </tr>\n",
              "    <tr>\n",
              "      <th>Fast Tempo</th>\n",
              "      <td>53</td>\n",
              "      <td>12</td>\n",
              "      <td>0.226415</td>\n",
              "    </tr>\n",
              "  </tbody>\n",
              "</table>\n",
              "</div>"
            ],
            "text/plain": [
              "               top               \n",
              "             count  sum      mean\n",
              "tempo                            \n",
              "Medium Tempo   517  113  0.218569\n",
              "Slow Tempo      65   16  0.246154\n",
              "Fast Tempo      53   12  0.226415"
            ]
          },
          "execution_count": 22,
          "metadata": {},
          "output_type": "execute_result"
        }
      ],
      "source": [
        "#tempo\n",
        "df[['tempo','top']].groupby('tempo').agg(['count','sum','mean']).sort_values(('top','count'), ascending = False)"
      ]
    },
    {
      "cell_type": "markdown",
      "metadata": {
        "id": "VbgEu-7JDEsq"
      },
      "source": [
        "**Hallazgo 7:**\n",
        "\n",
        "* El velocidad de las canciones en su mayoría son de Medium Tempo (517 de 635 casos)\n",
        "* La variable no tiene un cambio de comportamiento en el % de proporción del Target cuando se analiza por cada categoría"
      ]
    },
    {
      "cell_type": "code",
      "execution_count": 23,
      "metadata": {
        "colab": {
          "base_uri": "https://localhost:8080/",
          "height": 0
        },
        "id": "8hTXYyXSDBhO",
        "outputId": "be7bc38c-7ad3-4db0-c0a7-50af96705cf4"
      },
      "outputs": [
        {
          "data": {
            "text/html": [
              "<div>\n",
              "<style scoped>\n",
              "    .dataframe tbody tr th:only-of-type {\n",
              "        vertical-align: middle;\n",
              "    }\n",
              "\n",
              "    .dataframe tbody tr th {\n",
              "        vertical-align: top;\n",
              "    }\n",
              "\n",
              "    .dataframe thead tr th {\n",
              "        text-align: left;\n",
              "    }\n",
              "\n",
              "    .dataframe thead tr:last-of-type th {\n",
              "        text-align: right;\n",
              "    }\n",
              "</style>\n",
              "<table border=\"1\" class=\"dataframe\">\n",
              "  <thead>\n",
              "    <tr>\n",
              "      <th></th>\n",
              "      <th colspan=\"3\" halign=\"left\">top</th>\n",
              "    </tr>\n",
              "    <tr>\n",
              "      <th></th>\n",
              "      <th>count</th>\n",
              "      <th>sum</th>\n",
              "      <th>mean</th>\n",
              "    </tr>\n",
              "    <tr>\n",
              "      <th>genre</th>\n",
              "      <th></th>\n",
              "      <th></th>\n",
              "      <th></th>\n",
              "    </tr>\n",
              "  </thead>\n",
              "  <tbody>\n",
              "    <tr>\n",
              "      <th>Urban</th>\n",
              "      <td>215</td>\n",
              "      <td>71</td>\n",
              "      <td>0.330233</td>\n",
              "    </tr>\n",
              "    <tr>\n",
              "      <th>Pop</th>\n",
              "      <td>188</td>\n",
              "      <td>60</td>\n",
              "      <td>0.319149</td>\n",
              "    </tr>\n",
              "    <tr>\n",
              "      <th>Traditional</th>\n",
              "      <td>113</td>\n",
              "      <td>1</td>\n",
              "      <td>0.008850</td>\n",
              "    </tr>\n",
              "    <tr>\n",
              "      <th>Alternative &amp; Punk</th>\n",
              "      <td>60</td>\n",
              "      <td>5</td>\n",
              "      <td>0.083333</td>\n",
              "    </tr>\n",
              "    <tr>\n",
              "      <th>Electronica</th>\n",
              "      <td>27</td>\n",
              "      <td>2</td>\n",
              "      <td>0.074074</td>\n",
              "    </tr>\n",
              "    <tr>\n",
              "      <th>Rock</th>\n",
              "      <td>13</td>\n",
              "      <td>0</td>\n",
              "      <td>0.000000</td>\n",
              "    </tr>\n",
              "    <tr>\n",
              "      <th>Other</th>\n",
              "      <td>12</td>\n",
              "      <td>2</td>\n",
              "      <td>0.166667</td>\n",
              "    </tr>\n",
              "    <tr>\n",
              "      <th>Soundtrack</th>\n",
              "      <td>5</td>\n",
              "      <td>0</td>\n",
              "      <td>0.000000</td>\n",
              "    </tr>\n",
              "    <tr>\n",
              "      <th>Jazz</th>\n",
              "      <td>2</td>\n",
              "      <td>0</td>\n",
              "      <td>0.000000</td>\n",
              "    </tr>\n",
              "  </tbody>\n",
              "</table>\n",
              "</div>"
            ],
            "text/plain": [
              "                     top              \n",
              "                   count sum      mean\n",
              "genre                                 \n",
              "Urban                215  71  0.330233\n",
              "Pop                  188  60  0.319149\n",
              "Traditional          113   1  0.008850\n",
              "Alternative & Punk    60   5  0.083333\n",
              "Electronica           27   2  0.074074\n",
              "Rock                  13   0  0.000000\n",
              "Other                 12   2  0.166667\n",
              "Soundtrack             5   0  0.000000\n",
              "Jazz                   2   0  0.000000"
            ]
          },
          "execution_count": 23,
          "metadata": {},
          "output_type": "execute_result"
        }
      ],
      "source": [
        "#genre\n",
        "df[['genre','top']].groupby('genre').agg(['count','sum','mean']).sort_values(('top','count'), ascending = False)"
      ]
    },
    {
      "cell_type": "markdown",
      "metadata": {
        "id": "yEjhEcZLD4wi"
      },
      "source": [
        "**Hallazgo 8:**\n",
        "\n",
        "* La variable presenta una dimensionalidad alta (9 categorías) por lo que es necesario agruparlas\n",
        "* La variable si tiene un cambio de comportamiento en el % de proporción del Target, especialmente en el género Urban y Pop con 33%  y 32% del total de canciones de cada categoría."
      ]
    },
    {
      "cell_type": "code",
      "execution_count": 24,
      "metadata": {
        "colab": {
          "base_uri": "https://localhost:8080/",
          "height": 0
        },
        "id": "T86OnlwTD4Ra",
        "outputId": "c0606d26-8fb0-435d-dffe-35bce7bba209"
      },
      "outputs": [
        {
          "data": {
            "text/html": [
              "<div>\n",
              "<style scoped>\n",
              "    .dataframe tbody tr th:only-of-type {\n",
              "        vertical-align: middle;\n",
              "    }\n",
              "\n",
              "    .dataframe tbody tr th {\n",
              "        vertical-align: top;\n",
              "    }\n",
              "\n",
              "    .dataframe thead tr th {\n",
              "        text-align: left;\n",
              "    }\n",
              "\n",
              "    .dataframe thead tr:last-of-type th {\n",
              "        text-align: right;\n",
              "    }\n",
              "</style>\n",
              "<table border=\"1\" class=\"dataframe\">\n",
              "  <thead>\n",
              "    <tr>\n",
              "      <th></th>\n",
              "      <th colspan=\"3\" halign=\"left\">top</th>\n",
              "    </tr>\n",
              "    <tr>\n",
              "      <th></th>\n",
              "      <th>count</th>\n",
              "      <th>sum</th>\n",
              "      <th>mean</th>\n",
              "    </tr>\n",
              "    <tr>\n",
              "      <th>artist_type</th>\n",
              "      <th></th>\n",
              "      <th></th>\n",
              "      <th></th>\n",
              "    </tr>\n",
              "  </thead>\n",
              "  <tbody>\n",
              "    <tr>\n",
              "      <th>Male</th>\n",
              "      <td>387</td>\n",
              "      <td>63</td>\n",
              "      <td>0.162791</td>\n",
              "    </tr>\n",
              "    <tr>\n",
              "      <th>Female</th>\n",
              "      <td>153</td>\n",
              "      <td>49</td>\n",
              "      <td>0.320261</td>\n",
              "    </tr>\n",
              "    <tr>\n",
              "      <th>Mixed</th>\n",
              "      <td>95</td>\n",
              "      <td>29</td>\n",
              "      <td>0.305263</td>\n",
              "    </tr>\n",
              "  </tbody>\n",
              "</table>\n",
              "</div>"
            ],
            "text/plain": [
              "              top              \n",
              "            count sum      mean\n",
              "artist_type                    \n",
              "Male          387  63  0.162791\n",
              "Female        153  49  0.320261\n",
              "Mixed          95  29  0.305263"
            ]
          },
          "execution_count": 24,
          "metadata": {},
          "output_type": "execute_result"
        }
      ],
      "source": [
        "#artist_type\n",
        "df[['artist_type','top']].groupby('artist_type').agg(['count','sum','mean']).sort_values(('top','count'), ascending = False)"
      ]
    },
    {
      "cell_type": "markdown",
      "metadata": {
        "id": "Q8Gi9totFAyN"
      },
      "source": [
        "**Hallazgo 9:**\n",
        "\n",
        "* La variable si tiene un cambio de comportamiento en el % de proporción del Target, especialmente en el tipo de Artist Female y Mixed con 32%  y 30% del total de canciones de cada categoría."
      ]
    },
    {
      "cell_type": "markdown",
      "metadata": {
        "id": "owszrXB7FdPK"
      },
      "source": [
        "#### 5.- Tratamiento de Datos"
      ]
    },
    {
      "cell_type": "markdown",
      "metadata": {
        "id": "T01d07FQFxk1"
      },
      "source": [
        "##### 5.1 Convertir variables categóricas a numéricas"
      ]
    },
    {
      "cell_type": "code",
      "execution_count": 25,
      "metadata": {
        "id": "ev0Rz2s6FPGy"
      },
      "outputs": [],
      "source": [
        "# sex\n",
        "df['artist_type_encoded'] = df['artist_type'].map( {'Male': 0, 'Mixed': 1, 'Female': 2} ).astype(int)"
      ]
    },
    {
      "cell_type": "code",
      "execution_count": 26,
      "metadata": {
        "id": "fc8D2W4_GNve"
      },
      "outputs": [],
      "source": [
        "# genre\n",
        "df['genre_encoded'] = df['genre'].map( {'Jazz': 0, 'Soundtrack': 0, 'Other': 0,\n",
        "                                                    'Rock': 1, 'Electronica': 1, 'Alternative & Punk': 1,\n",
        "                                                    'Traditional': 2, 'Pop': 3, 'Urban': 4\n",
        "                                                    } ).astype(int)"
      ]
    },
    {
      "cell_type": "markdown",
      "metadata": {
        "id": "6ZpuIVR_HM2W"
      },
      "source": [
        "##### 5.2 Aplicar un cambio de distribución de la variable numérica para reducir los outliers extremos"
      ]
    },
    {
      "cell_type": "code",
      "execution_count": 27,
      "metadata": {
        "colab": {
          "base_uri": "https://localhost:8080/",
          "height": 429
        },
        "id": "qkCzXvoBHUog",
        "outputId": "b424cb37-2fdd-42e0-80c7-7e5452c8fe90"
      },
      "outputs": [
        {
          "data": {
            "text/plain": [
              "0.0       0.0\n",
              "0.1     133.8\n",
              "0.2     190.0\n",
              "0.3     206.2\n",
              "0.4     220.0\n",
              "0.5     232.0\n",
              "0.6     241.0\n",
              "0.7     255.8\n",
              "0.8     277.0\n",
              "0.9     321.6\n",
              "1.0    6840.0\n",
              "Name: durationSeg, dtype: float64"
            ]
          },
          "execution_count": 27,
          "metadata": {},
          "output_type": "execute_result"
        }
      ],
      "source": [
        "#Distribución de la variable por Deciles\n",
        "df['durationSeg'].quantile(np.arange(0,1.01,0.1))"
      ]
    },
    {
      "cell_type": "code",
      "execution_count": 28,
      "metadata": {
        "colab": {
          "base_uri": "https://localhost:8080/",
          "height": 429
        },
        "id": "M9UH_H79Hbxb",
        "outputId": "b70d5850-6969-4960-d43f-ffddc239a205"
      },
      "outputs": [
        {
          "data": {
            "text/plain": [
              "0.90     321.60\n",
              "0.91     328.88\n",
              "0.92     340.84\n",
              "0.93     355.10\n",
              "0.94     367.96\n",
              "0.95     401.40\n",
              "0.96     564.04\n",
              "0.97     878.86\n",
              "0.98    2216.32\n",
              "0.99    3977.18\n",
              "1.00    6840.00\n",
              "Name: durationSeg, dtype: float64"
            ]
          },
          "execution_count": 28,
          "metadata": {},
          "output_type": "execute_result"
        }
      ],
      "source": [
        "#Distribución de la variable por Deciles\n",
        "df['durationSeg'].quantile(np.arange(0.9,1.01,0.01))"
      ]
    },
    {
      "cell_type": "code",
      "execution_count": 29,
      "metadata": {
        "id": "fzEl93-EHh9m"
      },
      "outputs": [],
      "source": [
        "def outlier_capping(x):\n",
        "    x = x.clip(upper=x.quantile(0.96))\n",
        "    return(x)"
      ]
    },
    {
      "cell_type": "code",
      "execution_count": 30,
      "metadata": {
        "id": "_Z_Wfu7oH_su"
      },
      "outputs": [],
      "source": [
        "df_tratamiento = df[['durationSeg']].apply(lambda x: outlier_capping(x))"
      ]
    },
    {
      "cell_type": "code",
      "execution_count": 31,
      "metadata": {
        "id": "q90maFpAICwM"
      },
      "outputs": [],
      "source": [
        "df = pd.concat([df.drop(columns = ['durationSeg']),df_tratamiento],axis = 1)"
      ]
    },
    {
      "cell_type": "code",
      "execution_count": 32,
      "metadata": {
        "colab": {
          "base_uri": "https://localhost:8080/",
          "height": 449
        },
        "id": "JmMkM6ReIF96",
        "outputId": "c40f4e7d-8a73-4ee9-aebb-9b6d53e350a6"
      },
      "outputs": [
        {
          "data": {
            "image/png": "[encoded data removed]",
            "text/plain": [
              "<Figure size 640x480 with 1 Axes>"
            ]
          },
          "metadata": {},
          "output_type": "display_data"
        }
      ],
      "source": [
        "#durationSeg aplicando el topeo al percentil 97\n",
        "sns.boxplot(data=df,x='durationSeg')\n",
        "plt.show()"
      ]
    },
    {
      "cell_type": "markdown",
      "metadata": {
        "id": "8a6jfe49Lg4g"
      },
      "source": [
        "##### 5.3 Creación de variables numéricas"
      ]
    },
    {
      "cell_type": "markdown",
      "metadata": {
        "id": "FHI5-q2YLuWm"
      },
      "source": [
        "Visualizamos los años de nacimiento de los artistas"
      ]
    },
    {
      "cell_type": "code",
      "execution_count": 33,
      "metadata": {
        "colab": {
          "base_uri": "https://localhost:8080/",
          "height": 448
        },
        "id": "jLUUr7VmLkRU",
        "outputId": "90945781-d937-4285-eef6-0ca692e954f3"
      },
      "outputs": [
        {
          "data": {
            "text/plain": [
              "<Axes: ylabel='anioNacimiento'>"
            ]
          },
          "execution_count": 33,
          "metadata": {},
          "output_type": "execute_result"
        },
        {
          "data": {
            "image/png": "[encoded data removed]",
            "text/plain": [
              "<Figure size 640x480 with 1 Axes>"
            ]
          },
          "metadata": {},
          "output_type": "display_data"
        }
      ],
      "source": [
        "df['anioNacimiento'].value_counts().plot(kind='barh')"
      ]
    },
    {
      "cell_type": "markdown",
      "metadata": {
        "id": "zNpj9UcHMI5Y"
      },
      "source": [
        "Calculamos promedio de edad y asignamos a los registros Nulos"
      ]
    },
    {
      "cell_type": "code",
      "execution_count": 34,
      "metadata": {
        "id": "Qw-pkIU7MDh9"
      },
      "outputs": [],
      "source": [
        "def calcula_edad(anio,cuando):\n",
        "    cad = str(cuando)\n",
        "    momento = cad[:4]\n",
        "    if anio==0.0:\n",
        "        return None\n",
        "    return int(momento) - anio\n",
        "\n",
        "df['edad_en_billboard']=df.apply(lambda x: calcula_edad(x['anioNacimiento'],x['chart_date']), axis=1)"
      ]
    },
    {
      "cell_type": "code",
      "execution_count": 35,
      "metadata": {
        "colab": {
          "base_uri": "https://localhost:8080/",
          "height": 365
        },
        "id": "VUj94m6sMOs2",
        "outputId": "c02776bf-c31e-46de-a323-2c4b77a16af0"
      },
      "outputs": [
        {
          "data": {
            "text/html": [
              "<div>\n",
              "<style scoped>\n",
              "    .dataframe tbody tr th:only-of-type {\n",
              "        vertical-align: middle;\n",
              "    }\n",
              "\n",
              "    .dataframe tbody tr th {\n",
              "        vertical-align: top;\n",
              "    }\n",
              "\n",
              "    .dataframe thead th {\n",
              "        text-align: right;\n",
              "    }\n",
              "</style>\n",
              "<table border=\"1\" class=\"dataframe\">\n",
              "  <thead>\n",
              "    <tr style=\"text-align: right;\">\n",
              "      <th></th>\n",
              "      <th>id</th>\n",
              "      <th>title</th>\n",
              "      <th>artist</th>\n",
              "      <th>mood</th>\n",
              "      <th>tempo</th>\n",
              "      <th>genre</th>\n",
              "      <th>artist_type</th>\n",
              "      <th>chart_date</th>\n",
              "      <th>top</th>\n",
              "      <th>anioNacimiento</th>\n",
              "      <th>artist_type_encoded</th>\n",
              "      <th>genre_encoded</th>\n",
              "      <th>durationSeg</th>\n",
              "      <th>edad_en_billboard</th>\n",
              "    </tr>\n",
              "  </thead>\n",
              "  <tbody>\n",
              "    <tr>\n",
              "      <th>0</th>\n",
              "      <td>0</td>\n",
              "      <td>Small Town Throwdown</td>\n",
              "      <td>BRANTLEY GILBERT featuring JUSTIN MOORE &amp; THOM...</td>\n",
              "      <td>Brooding</td>\n",
              "      <td>Medium Tempo</td>\n",
              "      <td>Traditional</td>\n",
              "      <td>Male</td>\n",
              "      <td>20140628</td>\n",
              "      <td>0</td>\n",
              "      <td>1975.0</td>\n",
              "      <td>0</td>\n",
              "      <td>2</td>\n",
              "      <td>191.0</td>\n",
              "      <td>39.0</td>\n",
              "    </tr>\n",
              "    <tr>\n",
              "      <th>1</th>\n",
              "      <td>1</td>\n",
              "      <td>Bang Bang</td>\n",
              "      <td>JESSIE J, ARIANA GRANDE &amp; NICKI MINAJ</td>\n",
              "      <td>Energizing</td>\n",
              "      <td>Medium Tempo</td>\n",
              "      <td>Pop</td>\n",
              "      <td>Female</td>\n",
              "      <td>20140816</td>\n",
              "      <td>0</td>\n",
              "      <td>1989.0</td>\n",
              "      <td>2</td>\n",
              "      <td>3</td>\n",
              "      <td>368.0</td>\n",
              "      <td>25.0</td>\n",
              "    </tr>\n",
              "    <tr>\n",
              "      <th>2</th>\n",
              "      <td>2</td>\n",
              "      <td>Timber</td>\n",
              "      <td>PITBULL featuring KE$HA</td>\n",
              "      <td>Excited</td>\n",
              "      <td>Medium Tempo</td>\n",
              "      <td>Urban</td>\n",
              "      <td>Mixed</td>\n",
              "      <td>20140118</td>\n",
              "      <td>1</td>\n",
              "      <td>1993.0</td>\n",
              "      <td>1</td>\n",
              "      <td>4</td>\n",
              "      <td>223.0</td>\n",
              "      <td>21.0</td>\n",
              "    </tr>\n",
              "    <tr>\n",
              "      <th>3</th>\n",
              "      <td>3</td>\n",
              "      <td>Sweater Weather</td>\n",
              "      <td>THE NEIGHBOURHOOD</td>\n",
              "      <td>Brooding</td>\n",
              "      <td>Medium Tempo</td>\n",
              "      <td>Alternative &amp; Punk</td>\n",
              "      <td>Male</td>\n",
              "      <td>20140104</td>\n",
              "      <td>0</td>\n",
              "      <td>1989.0</td>\n",
              "      <td>0</td>\n",
              "      <td>1</td>\n",
              "      <td>206.0</td>\n",
              "      <td>25.0</td>\n",
              "    </tr>\n",
              "    <tr>\n",
              "      <th>4</th>\n",
              "      <td>4</td>\n",
              "      <td>Automatic</td>\n",
              "      <td>MIRANDA LAMBERT</td>\n",
              "      <td>Yearning</td>\n",
              "      <td>Medium Tempo</td>\n",
              "      <td>Traditional</td>\n",
              "      <td>Female</td>\n",
              "      <td>20140301</td>\n",
              "      <td>0</td>\n",
              "      <td>0.0</td>\n",
              "      <td>2</td>\n",
              "      <td>2</td>\n",
              "      <td>232.0</td>\n",
              "      <td>NaN</td>\n",
              "    </tr>\n",
              "  </tbody>\n",
              "</table>\n",
              "</div>"
            ],
            "text/plain": [
              "   id                 title  \\\n",
              "0   0  Small Town Throwdown   \n",
              "1   1             Bang Bang   \n",
              "2   2                Timber   \n",
              "3   3       Sweater Weather   \n",
              "4   4             Automatic   \n",
              "\n",
              "                                              artist        mood  \\\n",
              "0  BRANTLEY GILBERT featuring JUSTIN MOORE & THOM...    Brooding   \n",
              "1              JESSIE J, ARIANA GRANDE & NICKI MINAJ  Energizing   \n",
              "2                            PITBULL featuring KE$HA     Excited   \n",
              "3                                  THE NEIGHBOURHOOD    Brooding   \n",
              "4                                    MIRANDA LAMBERT    Yearning   \n",
              "\n",
              "          tempo               genre artist_type  chart_date  top  \\\n",
              "0  Medium Tempo         Traditional        Male    20140628    0   \n",
              "1  Medium Tempo                 Pop      Female    20140816    0   \n",
              "2  Medium Tempo               Urban       Mixed    20140118    1   \n",
              "3  Medium Tempo  Alternative & Punk        Male    20140104    0   \n",
              "4  Medium Tempo         Traditional      Female    20140301    0   \n",
              "\n",
              "   anioNacimiento  artist_type_encoded  genre_encoded  durationSeg  \\\n",
              "0          1975.0                    0              2        191.0   \n",
              "1          1989.0                    2              3        368.0   \n",
              "2          1993.0                    1              4        223.0   \n",
              "3          1989.0                    0              1        206.0   \n",
              "4             0.0                    2              2        232.0   \n",
              "\n",
              "   edad_en_billboard  \n",
              "0               39.0  \n",
              "1               25.0  \n",
              "2               21.0  \n",
              "3               25.0  \n",
              "4                NaN  "
            ]
          },
          "execution_count": 35,
          "metadata": {},
          "output_type": "execute_result"
        }
      ],
      "source": [
        "df.head()"
      ]
    },
    {
      "cell_type": "code",
      "execution_count": 36,
      "metadata": {
        "colab": {
          "base_uri": "https://localhost:8080/",
          "height": 335
        },
        "id": "C4lPi6enMQ2E",
        "outputId": "0d6e7766-f9dc-4892-be90-1ac95d6a08f6"
      },
      "outputs": [
        {
          "data": {
            "text/plain": [
              "count    496.000000\n",
              "mean      30.102823\n",
              "std        8.400788\n",
              "min       15.000000\n",
              "25%       24.000000\n",
              "50%       29.000000\n",
              "75%       35.000000\n",
              "max       95.000000\n",
              "Name: edad_en_billboard, dtype: float64"
            ]
          },
          "execution_count": 36,
          "metadata": {},
          "output_type": "execute_result"
        }
      ],
      "source": [
        "df['edad_en_billboard'].describe()"
      ]
    },
    {
      "cell_type": "code",
      "execution_count": 37,
      "metadata": {
        "colab": {
          "base_uri": "https://localhost:8080/"
        },
        "id": "ZNFQdbdqMaeA",
        "outputId": "e3d0a0bb-9ad5-4286-954c-73a056990f9a"
      },
      "outputs": [
        {
          "data": {
            "text/plain": [
              "139"
            ]
          },
          "execution_count": 37,
          "metadata": {},
          "output_type": "execute_result"
        }
      ],
      "source": [
        "df['edad_en_billboard'].isnull().sum()"
      ]
    },
    {
      "cell_type": "code",
      "execution_count": 38,
      "metadata": {
        "colab": {
          "base_uri": "https://localhost:8080/"
        },
        "id": "3QuC1A-YMcCM",
        "outputId": "7dc451bf-835e-43cc-f4c2-99dd3730e828"
      },
      "outputs": [
        {
          "name": "stdout",
          "output_type": "stream",
          "text": [
            "Edad Promedio: 30.10282258064516\n",
            "Desvió Std Edad: 8.40078832861513\n",
            "Intervalo para asignar edad aleatoria: 21 a 38\n"
          ]
        }
      ],
      "source": [
        "age_avg = df['edad_en_billboard'].mean()\n",
        "age_std = df['edad_en_billboard'].std()\n",
        "age_null_count = df['edad_en_billboard'].isnull().sum()\n",
        "age_null_random_list = np.random.randint(age_avg - age_std, age_avg + age_std, size=age_null_count)\n",
        "\n",
        "conValoresNulos = np.isnan(df['edad_en_billboard'])\n",
        "\n",
        "df.loc[np.isnan(df['edad_en_billboard']), 'edad_en_billboard'] = age_null_random_list\n",
        "\n",
        "df['edad_en_billboard'] = df['edad_en_billboard'].astype(int)\n",
        "\n",
        "print(\"Edad Promedio: \" + str(age_avg))\n",
        "print(\"Desvió Std Edad: \" + str(age_std))\n",
        "print(\"Intervalo para asignar edad aleatoria: \" + str(int(age_avg - age_std)) + \" a \" + str(int(age_avg + age_std)))"
      ]
    },
    {
      "cell_type": "code",
      "execution_count": 39,
      "metadata": {
        "colab": {
          "base_uri": "https://localhost:8080/",
          "height": 467
        },
        "id": "YK0Gepm_MkaD",
        "outputId": "cdb48635-c38c-44d0-81c6-23d5337d9772"
      },
      "outputs": [
        {
          "data": {
            "text/plain": [
              "<Axes: xlabel='edad_en_billboard', ylabel='count'>"
            ]
          },
          "execution_count": 39,
          "metadata": {},
          "output_type": "execute_result"
        },
        {
          "data": {
            "image/png": "[encoded data removed]",
            "text/plain": [
              "<Figure size 640x480 with 1 Axes>"
            ]
          },
          "metadata": {},
          "output_type": "display_data"
        }
      ],
      "source": [
        "sns.countplot(x='edad_en_billboard',data=df)"
      ]
    },
    {
      "cell_type": "markdown",
      "metadata": {
        "id": "E5RuUEshIWCl"
      },
      "source": [
        "##### 5.4 Selección de variables"
      ]
    },
    {
      "cell_type": "code",
      "execution_count": 40,
      "metadata": {
        "colab": {
          "base_uri": "https://localhost:8080/",
          "height": 365
        },
        "id": "hT9IR45lIXDN",
        "outputId": "a6f2f415-cc24-448b-b0d9-7df36c5f51ce"
      },
      "outputs": [
        {
          "data": {
            "text/html": [
              "<div>\n",
              "<style scoped>\n",
              "    .dataframe tbody tr th:only-of-type {\n",
              "        vertical-align: middle;\n",
              "    }\n",
              "\n",
              "    .dataframe tbody tr th {\n",
              "        vertical-align: top;\n",
              "    }\n",
              "\n",
              "    .dataframe thead th {\n",
              "        text-align: right;\n",
              "    }\n",
              "</style>\n",
              "<table border=\"1\" class=\"dataframe\">\n",
              "  <thead>\n",
              "    <tr style=\"text-align: right;\">\n",
              "      <th></th>\n",
              "      <th>id</th>\n",
              "      <th>title</th>\n",
              "      <th>artist</th>\n",
              "      <th>mood</th>\n",
              "      <th>tempo</th>\n",
              "      <th>genre</th>\n",
              "      <th>artist_type</th>\n",
              "      <th>chart_date</th>\n",
              "      <th>top</th>\n",
              "      <th>anioNacimiento</th>\n",
              "      <th>artist_type_encoded</th>\n",
              "      <th>genre_encoded</th>\n",
              "      <th>durationSeg</th>\n",
              "      <th>edad_en_billboard</th>\n",
              "    </tr>\n",
              "  </thead>\n",
              "  <tbody>\n",
              "    <tr>\n",
              "      <th>0</th>\n",
              "      <td>0</td>\n",
              "      <td>Small Town Throwdown</td>\n",
              "      <td>BRANTLEY GILBERT featuring JUSTIN MOORE &amp; THOM...</td>\n",
              "      <td>Brooding</td>\n",
              "      <td>Medium Tempo</td>\n",
              "      <td>Traditional</td>\n",
              "      <td>Male</td>\n",
              "      <td>20140628</td>\n",
              "      <td>0</td>\n",
              "      <td>1975.0</td>\n",
              "      <td>0</td>\n",
              "      <td>2</td>\n",
              "      <td>191.0</td>\n",
              "      <td>39</td>\n",
              "    </tr>\n",
              "    <tr>\n",
              "      <th>1</th>\n",
              "      <td>1</td>\n",
              "      <td>Bang Bang</td>\n",
              "      <td>JESSIE J, ARIANA GRANDE &amp; NICKI MINAJ</td>\n",
              "      <td>Energizing</td>\n",
              "      <td>Medium Tempo</td>\n",
              "      <td>Pop</td>\n",
              "      <td>Female</td>\n",
              "      <td>20140816</td>\n",
              "      <td>0</td>\n",
              "      <td>1989.0</td>\n",
              "      <td>2</td>\n",
              "      <td>3</td>\n",
              "      <td>368.0</td>\n",
              "      <td>25</td>\n",
              "    </tr>\n",
              "    <tr>\n",
              "      <th>2</th>\n",
              "      <td>2</td>\n",
              "      <td>Timber</td>\n",
              "      <td>PITBULL featuring KE$HA</td>\n",
              "      <td>Excited</td>\n",
              "      <td>Medium Tempo</td>\n",
              "      <td>Urban</td>\n",
              "      <td>Mixed</td>\n",
              "      <td>20140118</td>\n",
              "      <td>1</td>\n",
              "      <td>1993.0</td>\n",
              "      <td>1</td>\n",
              "      <td>4</td>\n",
              "      <td>223.0</td>\n",
              "      <td>21</td>\n",
              "    </tr>\n",
              "    <tr>\n",
              "      <th>3</th>\n",
              "      <td>3</td>\n",
              "      <td>Sweater Weather</td>\n",
              "      <td>THE NEIGHBOURHOOD</td>\n",
              "      <td>Brooding</td>\n",
              "      <td>Medium Tempo</td>\n",
              "      <td>Alternative &amp; Punk</td>\n",
              "      <td>Male</td>\n",
              "      <td>20140104</td>\n",
              "      <td>0</td>\n",
              "      <td>1989.0</td>\n",
              "      <td>0</td>\n",
              "      <td>1</td>\n",
              "      <td>206.0</td>\n",
              "      <td>25</td>\n",
              "    </tr>\n",
              "    <tr>\n",
              "      <th>4</th>\n",
              "      <td>4</td>\n",
              "      <td>Automatic</td>\n",
              "      <td>MIRANDA LAMBERT</td>\n",
              "      <td>Yearning</td>\n",
              "      <td>Medium Tempo</td>\n",
              "      <td>Traditional</td>\n",
              "      <td>Female</td>\n",
              "      <td>20140301</td>\n",
              "      <td>0</td>\n",
              "      <td>0.0</td>\n",
              "      <td>2</td>\n",
              "      <td>2</td>\n",
              "      <td>232.0</td>\n",
              "      <td>27</td>\n",
              "    </tr>\n",
              "  </tbody>\n",
              "</table>\n",
              "</div>"
            ],
            "text/plain": [
              "   id                 title  \\\n",
              "0   0  Small Town Throwdown   \n",
              "1   1             Bang Bang   \n",
              "2   2                Timber   \n",
              "3   3       Sweater Weather   \n",
              "4   4             Automatic   \n",
              "\n",
              "                                              artist        mood  \\\n",
              "0  BRANTLEY GILBERT featuring JUSTIN MOORE & THOM...    Brooding   \n",
              "1              JESSIE J, ARIANA GRANDE & NICKI MINAJ  Energizing   \n",
              "2                            PITBULL featuring KE$HA     Excited   \n",
              "3                                  THE NEIGHBOURHOOD    Brooding   \n",
              "4                                    MIRANDA LAMBERT    Yearning   \n",
              "\n",
              "          tempo               genre artist_type  chart_date  top  \\\n",
              "0  Medium Tempo         Traditional        Male    20140628    0   \n",
              "1  Medium Tempo                 Pop      Female    20140816    0   \n",
              "2  Medium Tempo               Urban       Mixed    20140118    1   \n",
              "3  Medium Tempo  Alternative & Punk        Male    20140104    0   \n",
              "4  Medium Tempo         Traditional      Female    20140301    0   \n",
              "\n",
              "   anioNacimiento  artist_type_encoded  genre_encoded  durationSeg  \\\n",
              "0          1975.0                    0              2        191.0   \n",
              "1          1989.0                    2              3        368.0   \n",
              "2          1993.0                    1              4        223.0   \n",
              "3          1989.0                    0              1        206.0   \n",
              "4             0.0                    2              2        232.0   \n",
              "\n",
              "   edad_en_billboard  \n",
              "0                 39  \n",
              "1                 25  \n",
              "2                 21  \n",
              "3                 25  \n",
              "4                 27  "
            ]
          },
          "execution_count": 40,
          "metadata": {},
          "output_type": "execute_result"
        }
      ],
      "source": [
        "df.head()"
      ]
    },
    {
      "cell_type": "code",
      "execution_count": 41,
      "metadata": {
        "colab": {
          "base_uri": "https://localhost:8080/"
        },
        "id": "uGhdk74OIeQw",
        "outputId": "1980cdee-bd14-4125-a1ee-2ca4f21e5c89"
      },
      "outputs": [
        {
          "data": {
            "text/plain": [
              "Index(['id', 'title', 'artist', 'mood', 'tempo', 'genre', 'artist_type',\n",
              "       'chart_date', 'top', 'anioNacimiento', 'artist_type_encoded',\n",
              "       'genre_encoded', 'durationSeg', 'edad_en_billboard'],\n",
              "      dtype='object')"
            ]
          },
          "execution_count": 41,
          "metadata": {},
          "output_type": "execute_result"
        }
      ],
      "source": [
        "df.columns"
      ]
    },
    {
      "cell_type": "code",
      "execution_count": 42,
      "metadata": {
        "id": "W8vxD0KdIY5a"
      },
      "outputs": [],
      "source": [
        "drop_elements = ['id', 'title', 'artist', 'mood', 'tempo', 'genre', 'artist_type',\n",
        "       'chart_date','anioNacimiento']\n",
        "df_encoded = df.drop(drop_elements, axis = 1)"
      ]
    },
    {
      "cell_type": "code",
      "execution_count": 43,
      "metadata": {
        "colab": {
          "base_uri": "https://localhost:8080/",
          "height": 206
        },
        "id": "Z0-7YxBlIlwF",
        "outputId": "a32884ed-5bd0-4d86-cab1-fdea5c882179"
      },
      "outputs": [
        {
          "data": {
            "text/html": [
              "<div>\n",
              "<style scoped>\n",
              "    .dataframe tbody tr th:only-of-type {\n",
              "        vertical-align: middle;\n",
              "    }\n",
              "\n",
              "    .dataframe tbody tr th {\n",
              "        vertical-align: top;\n",
              "    }\n",
              "\n",
              "    .dataframe thead th {\n",
              "        text-align: right;\n",
              "    }\n",
              "</style>\n",
              "<table border=\"1\" class=\"dataframe\">\n",
              "  <thead>\n",
              "    <tr style=\"text-align: right;\">\n",
              "      <th></th>\n",
              "      <th>top</th>\n",
              "      <th>artist_type_encoded</th>\n",
              "      <th>genre_encoded</th>\n",
              "      <th>durationSeg</th>\n",
              "      <th>edad_en_billboard</th>\n",
              "    </tr>\n",
              "  </thead>\n",
              "  <tbody>\n",
              "    <tr>\n",
              "      <th>0</th>\n",
              "      <td>0</td>\n",
              "      <td>0</td>\n",
              "      <td>2</td>\n",
              "      <td>191.0</td>\n",
              "      <td>39</td>\n",
              "    </tr>\n",
              "    <tr>\n",
              "      <th>1</th>\n",
              "      <td>0</td>\n",
              "      <td>2</td>\n",
              "      <td>3</td>\n",
              "      <td>368.0</td>\n",
              "      <td>25</td>\n",
              "    </tr>\n",
              "    <tr>\n",
              "      <th>2</th>\n",
              "      <td>1</td>\n",
              "      <td>1</td>\n",
              "      <td>4</td>\n",
              "      <td>223.0</td>\n",
              "      <td>21</td>\n",
              "    </tr>\n",
              "    <tr>\n",
              "      <th>3</th>\n",
              "      <td>0</td>\n",
              "      <td>0</td>\n",
              "      <td>1</td>\n",
              "      <td>206.0</td>\n",
              "      <td>25</td>\n",
              "    </tr>\n",
              "    <tr>\n",
              "      <th>4</th>\n",
              "      <td>0</td>\n",
              "      <td>2</td>\n",
              "      <td>2</td>\n",
              "      <td>232.0</td>\n",
              "      <td>27</td>\n",
              "    </tr>\n",
              "  </tbody>\n",
              "</table>\n",
              "</div>"
            ],
            "text/plain": [
              "   top  artist_type_encoded  genre_encoded  durationSeg  edad_en_billboard\n",
              "0    0                    0              2        191.0                 39\n",
              "1    0                    2              3        368.0                 25\n",
              "2    1                    1              4        223.0                 21\n",
              "3    0                    0              1        206.0                 25\n",
              "4    0                    2              2        232.0                 27"
            ]
          },
          "execution_count": 43,
          "metadata": {},
          "output_type": "execute_result"
        }
      ],
      "source": [
        "df_encoded.head()"
      ]
    },
    {
      "cell_type": "code",
      "execution_count": 44,
      "metadata": {
        "colab": {
          "base_uri": "https://localhost:8080/",
          "height": 595
        },
        "id": "2E_VlgxcInjp",
        "outputId": "ff537d5c-7f6f-47b4-b98f-46c7d27d9f37"
      },
      "outputs": [
        {
          "data": {
            "text/plain": [
              "<Axes: >"
            ]
          },
          "execution_count": 44,
          "metadata": {},
          "output_type": "execute_result"
        },
        {
          "data": {
            "image/png": "[encoded data removed]",
            "text/plain": [
              "<Figure size 800x500 with 2 Axes>"
            ]
          },
          "metadata": {},
          "output_type": "display_data"
        }
      ],
      "source": [
        "#Calculamos la correlación de variables numéricas para poder elegir las que se relacionan más con el Target.\n",
        "corr = df_encoded.corr()\n",
        "plt.figure(figsize=(8,5))\n",
        "sns.heatmap(corr, annot=True)"
      ]
    },
    {
      "cell_type": "code",
      "execution_count": 45,
      "metadata": {
        "colab": {
          "base_uri": "https://localhost:8080/"
        },
        "id": "xfOFciPqJEoX",
        "outputId": "411b0684-c778-4f2b-cff9-0fe35439884f"
      },
      "outputs": [
        {
          "name": "stdout",
          "output_type": "stream",
          "text": [
            "Index(['artist_type_encoded', 'genre_encoded', 'edad_en_billboard'], dtype='object')\n"
          ]
        }
      ],
      "source": [
        "from sklearn.feature_selection import SelectKBest\n",
        "\n",
        "#Variables independientes\n",
        "X=df_encoded.drop(['top'], axis=1)\n",
        "#Variable dependiente (Target)\n",
        "y=df_encoded['top']\n",
        "\n",
        "best=SelectKBest(k=3) #Coloca la cantidad de variables a tomar en cuenta\n",
        "X_new = best.fit_transform(X, y)\n",
        "X_new.shape\n",
        "selected = best.get_support(indices=True)\n",
        "print(X.columns[selected])"
      ]
    },
    {
      "cell_type": "code",
      "execution_count": 49,
      "metadata": {},
      "outputs": [],
      "source": [
        "# Exportar Dataset final\n",
        "df_encoded[['artist_type_encoded', 'genre_encoded', 'edad_en_billboard','top']].to_csv('/workspaces/Caso_Uso_S4/Data/proces/DataSet.csv',sep='|',index=False)"
      ]
    }
  ],
  "metadata": {
    "colab": {
      "provenance": []
    },
    "kernelspec": {
      "display_name": "Python 3",
      "name": "python3"
    },
    "language_info": {
      "codemirror_mode": {
        "name": "ipython",
        "version": 3
      },
      "file_extension": ".py",
      "mimetype": "text/x-python",
      "name": "python",
      "nbconvert_exporter": "python",
      "pygments_lexer": "ipython3",
      "version": "3.12.1"
    }
  },
  "nbformat": 4,
  "nbformat_minor": 0
}
